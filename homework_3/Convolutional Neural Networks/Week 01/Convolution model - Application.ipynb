{
  "cells": [
    {
      "cell_type": "markdown",
      "metadata": {
        "id": "eSEJZr60wIhZ"
      },
      "source": [
        "# Convolutional Neural Networks: Application\n",
        "\n",
        "Welcome to Course 4's second assignment! In this notebook, you will:\n",
        "\n",
        "- Implement helper functions that you will use when implementing a TensorFlow model\n",
        "- Implement a fully functioning ConvNet using TensorFlow \n",
        "\n",
        "**After this assignment you will be able to:**\n",
        "\n",
        "- Build and train a ConvNet in TensorFlow for a classification problem \n",
        "\n",
        "We assume here that you are already familiar with TensorFlow. If you are not, please refer the *TensorFlow Tutorial* of the third week of Course 2 (\"*Improving deep neural networks*\")."
      ]
    },
    {
      "cell_type": "markdown",
      "metadata": {
        "id": "vG-Qd-H7wIhd"
      },
      "source": [
        "## 1.0 - TensorFlow model\n",
        "\n",
        "In the previous assignment, you built helper functions using numpy to understand the mechanics behind convolutional neural networks. Most practical applications of deep learning today are built using programming frameworks, which have many built-in functions you can simply call. \n",
        "\n",
        "As usual, we will start by loading in the packages. "
      ]
    },
    {
      "cell_type": "code",
      "execution_count": 1,
      "metadata": {
        "collapsed": true,
        "id": "ccvzBsSbwIhd",
        "jupyter": {
          "outputs_hidden": true
        }
      },
      "outputs": [
        {
          "name": "stderr",
          "output_type": "stream",
          "text": [
            "F:\\anaconda\\envs\\tensorflow1\\lib\\site-packages\\tensorflow\\python\\framework\\dtypes.py:458: FutureWarning: Passing (type, 1) or '1type' as a synonym of type is deprecated; in a future version of numpy, it will be understood as (type, (1,)) / '(1,)type'.\n",
            "  _np_qint8 = np.dtype([(\"qint8\", np.int8, 1)])\n",
            "F:\\anaconda\\envs\\tensorflow1\\lib\\site-packages\\tensorflow\\python\\framework\\dtypes.py:459: FutureWarning: Passing (type, 1) or '1type' as a synonym of type is deprecated; in a future version of numpy, it will be understood as (type, (1,)) / '(1,)type'.\n",
            "  _np_quint8 = np.dtype([(\"quint8\", np.uint8, 1)])\n",
            "F:\\anaconda\\envs\\tensorflow1\\lib\\site-packages\\tensorflow\\python\\framework\\dtypes.py:460: FutureWarning: Passing (type, 1) or '1type' as a synonym of type is deprecated; in a future version of numpy, it will be understood as (type, (1,)) / '(1,)type'.\n",
            "  _np_qint16 = np.dtype([(\"qint16\", np.int16, 1)])\n",
            "F:\\anaconda\\envs\\tensorflow1\\lib\\site-packages\\tensorflow\\python\\framework\\dtypes.py:461: FutureWarning: Passing (type, 1) or '1type' as a synonym of type is deprecated; in a future version of numpy, it will be understood as (type, (1,)) / '(1,)type'.\n",
            "  _np_quint16 = np.dtype([(\"quint16\", np.uint16, 1)])\n",
            "F:\\anaconda\\envs\\tensorflow1\\lib\\site-packages\\tensorflow\\python\\framework\\dtypes.py:462: FutureWarning: Passing (type, 1) or '1type' as a synonym of type is deprecated; in a future version of numpy, it will be understood as (type, (1,)) / '(1,)type'.\n",
            "  _np_qint32 = np.dtype([(\"qint32\", np.int32, 1)])\n",
            "F:\\anaconda\\envs\\tensorflow1\\lib\\site-packages\\tensorflow\\python\\framework\\dtypes.py:465: FutureWarning: Passing (type, 1) or '1type' as a synonym of type is deprecated; in a future version of numpy, it will be understood as (type, (1,)) / '(1,)type'.\n",
            "  np_resource = np.dtype([(\"resource\", np.ubyte, 1)])\n"
          ]
        }
      ],
      "source": [
        "\n",
        "import math\n",
        "import numpy as np\n",
        "import h5py\n",
        "import matplotlib.pyplot as plt\n",
        "import scipy\n",
        "from PIL import Image\n",
        "from scipy import ndimage\n",
        "\n",
        "from tensorflow.python.framework import ops\n",
        "from cnn_utils import *\n",
        "\n",
        "%matplotlib inline\n",
        "np.random.seed(1)"
      ]
    },
    {
      "cell_type": "code",
      "execution_count": 2,
      "metadata": {
        "colab": {
          "base_uri": "https://localhost:8080/"
        },
        "id": "4JAm9BZ_FLY7",
        "outputId": "ffa50315-b760-4def-bc0b-72d5dfc79ff4"
      },
      "outputs": [
        {
          "name": "stdout",
          "output_type": "stream",
          "text": [
            "1.2.1\n"
          ]
        }
      ],
      "source": [
        "print(tf.__version__)"
      ]
    },
    {
      "cell_type": "markdown",
      "metadata": {
        "id": "bcfnAR5UwIhf"
      },
      "source": [
        "Run the next cell to load the \"SIGNS\" dataset you are going to use."
      ]
    },
    {
      "cell_type": "code",
      "execution_count": 3,
      "metadata": {
        "collapsed": true,
        "id": "dHDblp9GwIhf",
        "jupyter": {
          "outputs_hidden": true
        }
      },
      "outputs": [],
      "source": [
        "# Loading the data (signs)\n",
        "X_train_orig, Y_train_orig, X_test_orig, Y_test_orig, classes = load_dataset()"
      ]
    },
    {
      "cell_type": "markdown",
      "metadata": {
        "id": "Dli_QlD1wIhg"
      },
      "source": [
        "As a reminder, the SIGNS dataset is a collection of 6 signs representing numbers from 0 to 5.\n",
        "\n",
        "<img src=\"images/SIGNS.png\" style=\"width:800px;height:300px;\">\n",
        "\n",
        "The next cell will show you an example of a labelled image in the dataset. Feel free to change the value of `index` below and re-run to see different examples. "
      ]
    },
    {
      "cell_type": "code",
      "execution_count": 4,
      "metadata": {
        "colab": {
          "base_uri": "https://localhost:8080/",
          "height": 285
        },
        "collapsed": true,
        "id": "-7XoWbCawIhg",
        "jupyter": {
          "outputs_hidden": true
        },
        "outputId": "3b5e27aa-55bd-450f-a484-ec81b6484941"
      },
      "outputs": [
        {
          "name": "stdout",
          "output_type": "stream",
          "text": [
            "y = 1\n"
          ]
        },
        {
          "data": {
            "image/png": "[encoded data removed]",
            "text/plain": [
              "<matplotlib.figure.Figure at 0x221200935c0>"
            ]
          },
          "metadata": {},
          "output_type": "display_data"
        }
      ],
      "source": [
        "# Example of a picture\n",
        "index = 8\n",
        "plt.imshow(X_train_orig[index])\n",
        "print (\"y = \" + str(np.squeeze(Y_train_orig[:, index])))"
      ]
    },
    {
      "cell_type": "markdown",
      "metadata": {
        "id": "8o9urnKHwIhh"
      },
      "source": [
        "In Course 2, you had built a fully-connected network for this dataset. But since this is an image dataset, it is more natural to apply a ConvNet to it.\n",
        "\n",
        "To get started, let's examine the shapes of your data. "
      ]
    },
    {
      "cell_type": "code",
      "execution_count": 5,
      "metadata": {
        "colab": {
          "base_uri": "https://localhost:8080/"
        },
        "id": "aR7e6euKwIhh",
        "jupyter": {
          "outputs_hidden": true
        },
        "outputId": "a7944d86-1045-4ab9-efd2-a26ba811b524"
      },
      "outputs": [
        {
          "name": "stdout",
          "output_type": "stream",
          "text": [
            "number of training examples = 1080\n",
            "number of test examples = 120\n",
            "X_train shape: (1080, 64, 64, 3)\n",
            "Y_train shape: (1080, 6)\n",
            "X_test shape: (120, 64, 64, 3)\n",
            "Y_test shape: (120, 6)\n"
          ]
        }
      ],
      "source": [
        "X_train = X_train_orig/255.\n",
        "X_test = X_test_orig/255.\n",
        "Y_train = convert_to_one_hot(Y_train_orig, 6).T\n",
        "Y_test = convert_to_one_hot(Y_test_orig, 6).T\n",
        "print (\"number of training examples = \" + str(X_train.shape[0]))\n",
        "print (\"number of test examples = \" + str(X_test.shape[0]))\n",
        "print (\"X_train shape: \" + str(X_train.shape))\n",
        "print (\"Y_train shape: \" + str(Y_train.shape))\n",
        "print (\"X_test shape: \" + str(X_test.shape))\n",
        "print (\"Y_test shape: \" + str(Y_test.shape))\n",
        "conv_layers = {}"
      ]
    },
    {
      "cell_type": "markdown",
      "metadata": {
        "id": "GDquZ6eowIhi"
      },
      "source": [
        "### 1.1 - Create placeholders\n",
        "\n",
        "TensorFlow requires that you create placeholders for the input data that will be fed into the model when running the session.\n",
        "\n",
        "**Exercise**: Implement the function below to create placeholders for the input image X and the output Y. You should not define the number of training examples for the moment. To do so, you could use \"None\" as the batch size, it will give you the flexibility to choose it later. Hence X should be of dimension **[None, n_H0, n_W0, n_C0]** and Y should be of dimension **[None, n_y]**.  [Hint](https://www.tensorflow.org/api_docs/python/tf/placeholder)."
      ]
    },
    {
      "cell_type": "code",
      "execution_count": 14,
      "metadata": {
        "collapsed": true,
        "id": "kWCp9eu7wIhj",
        "jupyter": {
          "outputs_hidden": true
        }
      },
      "outputs": [],
      "source": [
        "# GRADED FUNCTION: create_placeholders\n",
        "\n",
        "def create_placeholders(n_H0, n_W0, n_C0, n_y):\n",
        "    \"\"\"\n",
        "    Creates the placeholders for the tensorflow session.\n",
        "    \n",
        "    Arguments:\n",
        "    n_H0 -- scalar, height of an input image\n",
        "    n_W0 -- scalar, width of an input image\n",
        "    n_C0 -- scalar, number of channels of the input\n",
        "    n_y -- scalar, number of classes\n",
        "        \n",
        "    Returns:\n",
        "    X -- placeholder for the data input, of shape [None, n_H0, n_W0, n_C0] and dtype \"float\"\n",
        "    Y -- placeholder for the input labels, of shape [None, n_y] and dtype \"float\"\n",
        "    \"\"\"\n",
        "\n",
        "    ### START CODE HERE ### (≈2 lines)\n",
        "    X = tf.placeholder (dtype=tf.float32,shape=(None,n_H0,n_W0,n_C0))\n",
        "    Y = tf.placeholder (dtype=tf.float32,shape=(None,n_y))\n",
        "    ### END CODE HERE ###\n",
        "    \n",
        "    return X, Y"
      ]
    },
    {
      "cell_type": "code",
      "execution_count": 15,
      "metadata": {
        "colab": {
          "base_uri": "https://localhost:8080/"
        },
        "id": "FMdqRsEnwIhj",
        "jupyter": {
          "outputs_hidden": true
        },
        "outputId": "b93aa188-cbb4-4b0c-c6bd-3dba6792f756"
      },
      "outputs": [
        {
          "name": "stdout",
          "output_type": "stream",
          "text": [
            "X = Tensor(\"Placeholder_3:0\", shape=(?, 64, 64, 3), dtype=float32)\n",
            "Y = Tensor(\"Placeholder_4:0\", shape=(?, 6), dtype=float32)\n"
          ]
        }
      ],
      "source": [
        "X, Y = create_placeholders(64, 64, 3, 6)\n",
        "print (\"X = \" + str(X))\n",
        "print (\"Y = \" + str(Y))"
      ]
    },
    {
      "cell_type": "markdown",
      "metadata": {
        "id": "vrD4r37KwIhk"
      },
      "source": [
        "**Expected Output**\n",
        "\n",
        "<table> \n",
        "<tr>\n",
        "<td>\n",
        "    X = Tensor(\"Placeholder:0\", shape=(?, 64, 64, 3), dtype=float32)\n",
        "\n",
        "</td>\n",
        "</tr>\n",
        "<tr>\n",
        "<td>\n",
        "    Y = Tensor(\"Placeholder_1:0\", shape=(?, 6), dtype=float32)\n",
        "\n",
        "</td>\n",
        "</tr>\n",
        "</table>"
      ]
    },
    {
      "cell_type": "markdown",
      "metadata": {
        "id": "s5DBclihwIhk"
      },
      "source": [
        "### 1.2 - Initialize parameters\n",
        "\n",
        "You will initialize weights/filters $W1$ and $W2$ using `tf.contrib.layers.xavier_initializer(seed = 0)`. You don't need to worry about bias variables as you will soon see that TensorFlow functions take care of the bias. Note also that you will only initialize the weights/filters for the conv2d functions. TensorFlow initializes the layers for the fully connected part automatically. We will talk more about that later in this assignment.\n",
        "\n",
        "**Exercise:** Implement initialize_parameters(). The dimensions for each group of filters are provided below. Reminder - to initialize a parameter $W$ of shape [1,2,3,4] in Tensorflow, use:\n",
        "```python\n",
        "W = tf.get_variable(\"W\", [1,2,3,4], initializer = ...)\n",
        "```\n",
        "[More Info](https://www.tensorflow.org/api_docs/python/tf/get_variable)."
      ]
    },
    {
      "cell_type": "code",
      "execution_count": 16,
      "metadata": {
        "collapsed": true,
        "id": "vAadKRGSwIhk",
        "jupyter": {
          "outputs_hidden": true
        }
      },
      "outputs": [],
      "source": [
        "# GRADED FUNCTION: initialize_parameters\n",
        "\n",
        "def initialize_parameters():\n",
        "    \"\"\"\n",
        "    Initializes weight parameters to build a neural network with tensorflow. The shapes are:\n",
        "                        W1 : [4, 4, 3, 8]\n",
        "                        W2 : [2, 2, 8, 16]\n",
        "    Returns:\n",
        "    parameters -- a dictionary of tensors containing W1, W2\n",
        "    \"\"\"\n",
        "    \n",
        "    tf.set_random_seed(1)                              # so that your \"random\" numbers match ours\n",
        "        \n",
        "    ### START CODE HERE ### (approx. 2 lines of code)\n",
        "    W1 = tf.get_variable(\"W1\",[4,4,3,8],initializer=tf.contrib.layers.xavier_initializer(seed = 0))\n",
        "    W2 = tf.get_variable(\"W2\",[2,2,8,16],initializer=tf.contrib.layers.xavier_initializer(seed = 0)) \n",
        "    ### END CODE HERE ###\n",
        "\n",
        "    parameters = {\"W1\": W1,\n",
        "                  \"W2\": W2}\n",
        "    \n",
        "    return parameters"
      ]
    },
    {
      "cell_type": "code",
      "execution_count": 17,
      "metadata": {
        "colab": {
          "base_uri": "https://localhost:8080/"
        },
        "id": "9vCAQyJowIhk",
        "jupyter": {
          "outputs_hidden": true
        },
        "outputId": "343cb5b8-ec07-4422-b921-5646d05f0acd"
      },
      "outputs": [
        {
          "name": "stdout",
          "output_type": "stream",
          "text": [
            "W1 = [ 0.00131723  0.1417614  -0.04434952  0.09197326  0.14984085 -0.03514394\n",
            " -0.06847463  0.05245192]\n",
            "W2 = [-0.08566415  0.17750949  0.11974221  0.16773748 -0.0830943  -0.08058\n",
            " -0.00577033 -0.14643836  0.24162132 -0.05857408 -0.19055021  0.1345228\n",
            " -0.22779644 -0.1601823  -0.16117483 -0.10286498]\n"
          ]
        }
      ],
      "source": [
        "tf.reset_default_graph()\n",
        "with tf.Session() as sess_test:\n",
        "    parameters = initialize_parameters()\n",
        "    init = tf.global_variables_initializer()\n",
        "    sess_test.run(init)\n",
        "    print(\"W1 = \" + str(parameters[\"W1\"].eval()[1,1,1]))\n",
        "    print(\"W2 = \" + str(parameters[\"W2\"].eval()[1,1,1]))"
      ]
    },
    {
      "cell_type": "markdown",
      "metadata": {
        "id": "iDxDyKHkwIhl"
      },
      "source": [
        "** Expected Output:**\n",
        "\n",
        "<table> \n",
        "\n",
        "<tr>\n",
        "        <td>\n",
        "        W1 = \n",
        "        </td>\n",
        "        <td>\n",
        "[ 0.00131723  0.14176141 -0.04434952  0.09197326  0.14984085 -0.03514394 <br>\n",
        " -0.06847463  0.05245192]\n",
        "        </td>\n",
        "    </tr>\n",
        "<tr>\n",
        "        <td>\n",
        "        W2 = \n",
        "        </td>\n",
        "        <td>\n",
        "[-0.08566415  0.17750949  0.11974221  0.16773748 -0.0830943  -0.08058 <br>\n",
        " -0.00577033 -0.14643836  0.24162132 -0.05857408 -0.19055021  0.1345228 <br>\n",
        " -0.22779644 -0.1601823  -0.16117483 -0.10286498]\n",
        "        </td>\n",
        "    </tr>\n",
        "\n",
        "</table>"
      ]
    },
    {
      "cell_type": "markdown",
      "metadata": {
        "id": "rX-G6YzWwIhl"
      },
      "source": [
        "### 1.2 - Forward propagation\n",
        "\n",
        "In TensorFlow, there are built-in functions that carry out the convolution steps for you.\n",
        "\n",
        "- **tf.nn.conv2d(X,W1, strides = [1,s,s,1], padding = 'SAME'):** given an input $X$ and a group of filters $W1$, this function convolves $W1$'s filters on X. The third input ([1,f,f,1]) represents the strides for each dimension of the input (m, n_H_prev, n_W_prev, n_C_prev). You can read the full documentation [here](https://www.tensorflow.org/api_docs/python/tf/nn/conv2d)\n",
        "\n",
        "- **tf.nn.max_pool(A, ksize = [1,f,f,1], strides = [1,s,s,1], padding = 'SAME'):** given an input A, this function uses a window of size (f, f) and strides of size (s, s) to carry out max pooling over each window. You can read the full documentation [here](https://www.tensorflow.org/api_docs/python/tf/nn/max_pool)\n",
        "\n",
        "- **tf.nn.relu(Z1):** computes the elementwise ReLU of Z1 (which can be any shape). You can read the full documentation [here.](https://www.tensorflow.org/api_docs/python/tf/nn/relu)\n",
        "\n",
        "- **tf.contrib.layers.flatten(P)**: given an input P, this function flattens each example into a 1D vector it while maintaining the batch-size. It returns a flattened tensor with shape [batch_size, k]. You can read the full documentation [here.](https://www.tensorflow.org/api_docs/python/tf/contrib/layers/flatten)\n",
        "\n",
        "- **tf.contrib.layers.fully_connected(F, num_outputs):** given a the flattened input F, it returns the output computed using a fully connected layer. You can read the full documentation [here.](https://www.tensorflow.org/api_docs/python/tf/contrib/layers/fully_connected)\n",
        "\n",
        "In the last function above (`tf.contrib.layers.fully_connected`), the fully connected layer automatically initializes weights in the graph and keeps on training them as you train the model. Hence, you did not need to initialize those weights when initializing the parameters. \n",
        "\n",
        "\n",
        "**Exercise**: \n",
        "\n",
        "Implement the `forward_propagation` function below to build the following model: `CONV2D -> RELU -> MAXPOOL -> CONV2D -> RELU -> MAXPOOL -> FLATTEN -> FULLYCONNECTED`. You should use the functions above. \n",
        "\n",
        "In detail, we will use the following parameters for all the steps:\n",
        "     - Conv2D: stride 1, padding is \"SAME\"\n",
        "     - ReLU\n",
        "     - Max pool: Use an 8 by 8 filter size and an 8 by 8 stride, padding is \"SAME\"\n",
        "     - Conv2D: stride 1, padding is \"SAME\"\n",
        "     - ReLU\n",
        "     - Max pool: Use a 4 by 4 filter size and a 4 by 4 stride, padding is \"SAME\"\n",
        "     - Flatten the previous output.\n",
        "     - FULLYCONNECTED (FC) layer: Apply a fully connected layer without an non-linear activation function. Do not call the softmax here. This will result in 6 neurons in the output layer, which then get passed later to a softmax. In TensorFlow, the softmax and cost function are lumped together into a single function, which you'll call in a different function when computing the cost. "
      ]
    },
    {
      "cell_type": "code",
      "execution_count": 18,
      "metadata": {
        "collapsed": true,
        "id": "Pbq8A1USwIhl",
        "jupyter": {
          "outputs_hidden": true
        }
      },
      "outputs": [],
      "source": [
        "# GRADED FUNCTION: forward_propagation\n",
        "\n",
        "def forward_propagation(X, parameters):\n",
        "    \"\"\"\n",
        "    Implements the forward propagation for the model:\n",
        "    CONV2D -> RELU -> MAXPOOL -> CONV2D -> RELU -> MAXPOOL -> FLATTEN -> FULLYCONNECTED\n",
        "    \n",
        "    Arguments:\n",
        "    X -- input dataset placeholder, of shape (input size, number of examples)\n",
        "    parameters -- python dictionary containing your parameters \"W1\", \"W2\"\n",
        "                  the shapes are given in initialize_parameters\n",
        "\n",
        "    Returns:\n",
        "    Z3 -- the output of the last LINEAR unit\n",
        "    \"\"\"\n",
        "    \n",
        "    # Retrieve the parameters from the dictionary \"parameters\" \n",
        "    W1 = parameters['W1']\n",
        "    W2 = parameters['W2']\n",
        "    \n",
        "    ### START CODE HERE ###\n",
        "    # CONV2D: stride of 1, padding 'SAME'\n",
        "    Z1 = tf.nn.conv2d(X,W1,strides=[1,1,1,1],padding='SAME')\n",
        "    # RELU\n",
        "    A1 = tf.nn.relu(Z1)\n",
        "    # MAXPOOL: window 8x8, sride 8, padding 'SAME'\n",
        "    P1 = tf.nn.max_pool(A1,ksize=[1,8,8,1],strides=[1,8,8,1],padding='SAME')\n",
        "    # CONV2D: filters W2, stride 1, padding 'SAME'\n",
        "    Z2 = tf.nn.conv2d(P1,W2,strides=[1,1,1,1],padding='SAME')\n",
        "    # RELU\n",
        "    A2 = tf.nn.relu(Z2)\n",
        "    # MAXPOOL: window 4x4, stride 4, padding 'SAME'\n",
        "    P2 = tf.nn.max_pool(A2,ksize=[1,4,4,1],strides=[1,4,4,1],padding='SAME')\n",
        "    # FLATTEN\n",
        "    P2 = tf.contrib.layers.flatten(P2)\n",
        "    # FULLY-CONNECTED without non-linear activation function (not not call softmax).\n",
        "    # 6 neurons in output layer. Hint: one of the arguments should be \"activation_fn=None\" \n",
        "    Z3 = tf.contrib.layers.fully_connected(P2,6,activation_fn=None)\n",
        "    ### END CODE HERE ###\n",
        "\n",
        "    return Z3"
      ]
    },
    {
      "cell_type": "code",
      "execution_count": 19,
      "metadata": {
        "colab": {
          "base_uri": "https://localhost:8080/"
        },
        "id": "xSHt2p-TwIhm",
        "jupyter": {
          "outputs_hidden": true
        },
        "outputId": "3e9fd372-2eaa-4a5f-a8cc-793d57eac4a8"
      },
      "outputs": [
        {
          "name": "stdout",
          "output_type": "stream",
          "text": [
            "Z3 = [[-0.44670227 -1.5720876  -1.5304923  -2.3101304  -1.2910438   0.46852064]\n",
            " [-0.17601591 -1.5797201  -1.4737016  -2.616721   -1.0081065   0.5747785 ]]\n"
          ]
        }
      ],
      "source": [
        "tf.reset_default_graph()\n",
        "\n",
        "with tf.Session() as sess:\n",
        "    np.random.seed(1)\n",
        "    X, Y = create_placeholders(64, 64, 3, 6)\n",
        "    parameters = initialize_parameters()\n",
        "    Z3 = forward_propagation(X, parameters)\n",
        "    init = tf.global_variables_initializer()\n",
        "    sess.run(init)\n",
        "    a = sess.run(Z3, {X: np.random.randn(2,64,64,3), Y: np.random.randn(2,6)})\n",
        "    print(\"Z3 = \" + str(a))"
      ]
    },
    {
      "cell_type": "markdown",
      "metadata": {
        "id": "taiCyeiJwIhm"
      },
      "source": [
        "**Expected Output**:\n",
        "\n",
        "<table> \n",
        "    <td> \n",
        "    Z3 =\n",
        "    </td>\n",
        "    <td>\n",
        "    [[-0.44670227 -1.5720876  -1.5304923  -2.3101304  -1.2910438   0.46852064] <br>\n",
        " [-0.17601591 -1.5797201  -1.4737016  -2.616721   -1.0081065   0.5747785 ]]\n",
        "    </td>\n",
        "</table>"
      ]
    },
    {
      "cell_type": "markdown",
      "metadata": {
        "id": "h0lHVuEmwIhm"
      },
      "source": [
        "### 1.3 - Compute cost\n",
        "\n",
        "Implement the compute cost function below. You might find these two functions helpful: \n",
        "\n",
        "- **tf.nn.softmax_cross_entropy_with_logits(logits = Z3, labels = Y):** computes the softmax entropy loss. This function both computes the softmax activation function as well as the resulting loss. You can check the full documentation  [here.](https://www.tensorflow.org/api_docs/python/tf/nn/softmax_cross_entropy_with_logits)\n",
        "- **tf.reduce_mean:** computes the mean of elements across dimensions of a tensor. Use this to sum the losses over all the examples to get the overall cost. You can check the full documentation [here.](https://www.tensorflow.org/api_docs/python/tf/reduce_mean)\n",
        "\n",
        "** Exercise**: Compute the cost below using the function above."
      ]
    },
    {
      "cell_type": "code",
      "execution_count": 20,
      "metadata": {
        "collapsed": true,
        "id": "JDyl5FkDwIhm",
        "jupyter": {
          "outputs_hidden": true
        }
      },
      "outputs": [],
      "source": [
        "# GRADED FUNCTION: compute_cost \n",
        "\n",
        "def compute_cost(Z3, Y):\n",
        "    \"\"\"\n",
        "    Computes the cost\n",
        "    \n",
        "    Arguments:\n",
        "    Z3 -- output of forward propagation (output of the last LINEAR unit), of shape (6, number of examples)\n",
        "    Y -- \"true\" labels vector placeholder, same shape as Z3\n",
        "    \n",
        "    Returns:\n",
        "    cost - Tensor of the cost function\n",
        "    \"\"\"\n",
        "    \n",
        "    ### START CODE HERE ### (1 line of code)\n",
        "    cost = tf.reduce_mean(tf.nn.softmax_cross_entropy_with_logits(logits=Z3,labels=Y))\n",
        "    ### END CODE HERE ###\n",
        "    \n",
        "    return cost"
      ]
    },
    {
      "cell_type": "code",
      "execution_count": 21,
      "metadata": {
        "colab": {
          "base_uri": "https://localhost:8080/"
        },
        "id": "lTMfQLzTwIhn",
        "jupyter": {
          "outputs_hidden": true
        },
        "outputId": "f6a6728d-d491-465d-823b-7435717a0221"
      },
      "outputs": [
        {
          "name": "stdout",
          "output_type": "stream",
          "text": [
            "cost = 2.9103398\n"
          ]
        }
      ],
      "source": [
        "tf.reset_default_graph()\n",
        "\n",
        "with tf.Session() as sess:\n",
        "    np.random.seed(1)\n",
        "    X, Y = create_placeholders(64, 64, 3, 6)\n",
        "    parameters = initialize_parameters()\n",
        "    Z3 = forward_propagation(X, parameters)\n",
        "    cost = compute_cost(Z3, Y)\n",
        "    init = tf.global_variables_initializer()\n",
        "    sess.run(init)\n",
        "    a = sess.run(cost, {X: np.random.randn(4,64,64,3), Y: np.random.randn(4,6)})\n",
        "    print(\"cost = \" + str(a))"
      ]
    },
    {
      "cell_type": "markdown",
      "metadata": {
        "id": "l5q5uRG0wIhn"
      },
      "source": [
        "**Expected Output**: \n",
        "\n",
        "<table>\n",
        "<td> \n",
        "    cost =\n",
        "    </td> \n",
        "    \n",
        "<td> \n",
        "2.9103398\n",
        "    </td> \n",
        "</table>"
      ]
    },
    {
      "cell_type": "markdown",
      "metadata": {
        "id": "7TMiFEuzwIhn"
      },
      "source": [
        "## 1.4 Model \n",
        "\n",
        "Finally you will merge the helper functions you implemented above to build a model. You will train it on the SIGNS dataset. \n",
        "\n",
        "You have implemented `random_mini_batches()` in the Optimization programming assignment of course 2. Remember that this function returns a list of mini-batches. \n",
        "\n",
        "**Exercise**: Complete the function below. \n",
        "\n",
        "The model below should:\n",
        "\n",
        "- create placeholders\n",
        "- initialize parameters\n",
        "- forward propagate\n",
        "- compute the cost\n",
        "- create an optimizer\n",
        "\n",
        "Finally you will create a session and run a for loop  for num_epochs, get the mini-batches, and then for each mini-batch you will optimize the function. [Hint for initializing the variables](https://www.tensorflow.org/api_docs/python/tf/global_variables_initializer)"
      ]
    },
    {
      "cell_type": "code",
      "execution_count": 22,
      "metadata": {
        "collapsed": true,
        "id": "MGOVyl3NwIhn",
        "jupyter": {
          "outputs_hidden": true
        }
      },
      "outputs": [],
      "source": [
        "# GRADED FUNCTION: model\n",
        "\n",
        "def model(X_train, Y_train, X_test, Y_test, learning_rate = 0.009,\n",
        "          num_epochs = 100, minibatch_size = 64, print_cost = True):\n",
        "    \"\"\"\n",
        "    Implements a three-layer ConvNet in Tensorflow:\n",
        "    CONV2D -> RELU -> MAXPOOL -> CONV2D -> RELU -> MAXPOOL -> FLATTEN -> FULLYCONNECTED\n",
        "    \n",
        "    Arguments:\n",
        "    X_train -- training set, of shape (None, 64, 64, 3)\n",
        "    Y_train -- test set, of shape (None, n_y = 6)\n",
        "    X_test -- training set, of shape (None, 64, 64, 3)\n",
        "    Y_test -- test set, of shape (None, n_y = 6)\n",
        "    learning_rate -- learning rate of the optimization\n",
        "    num_epochs -- number of epochs of the optimization loop\n",
        "    minibatch_size -- size of a minibatch\n",
        "    print_cost -- True to print the cost every 100 epochs\n",
        "    \n",
        "    Returns:\n",
        "    train_accuracy -- real number, accuracy on the train set (X_train)\n",
        "    test_accuracy -- real number, testing accuracy on the test set (X_test)\n",
        "    parameters -- parameters learnt by the model. They can then be used to predict.\n",
        "    \"\"\"\n",
        "    \n",
        "    ops.reset_default_graph()                         # to be able to rerun the model without overwriting tf variables\n",
        "    tf.set_random_seed(1)                             # to keep results consistent (tensorflow seed)\n",
        "    seed = 3                                          # to keep results consistent (numpy seed)\n",
        "    (m, n_H0, n_W0, n_C0) = X_train.shape             \n",
        "    n_y = Y_train.shape[1]                            \n",
        "    costs = []                                        # To keep track of the cost\n",
        "    \n",
        "    # Create Placeholders of the correct shape\n",
        "    ### START CODE HERE ### (1 line)\n",
        "    X, Y = create_placeholders(n_H0,n_W0,n_C0,n_y)\n",
        "    ### END CODE HERE ###\n",
        "\n",
        "    # Initialize parameters\n",
        "    ### START CODE HERE ### (1 line)\n",
        "    parameters = initialize_parameters()\n",
        "    ### END CODE HERE ###\n",
        "    \n",
        "    # Forward propagation: Build the forward propagation in the tensorflow graph\n",
        "    ### START CODE HERE ### (1 line)\n",
        "    Z3 = forward_propagation(X,parameters)\n",
        "    ### END CODE HERE ###\n",
        "    \n",
        "    # Cost function: Add cost function to tensorflow graph\n",
        "    ### START CODE HERE ### (1 line)\n",
        "    cost = compute_cost(Z3,Y)\n",
        "    ### END CODE HERE ###\n",
        "    \n",
        "    # Backpropagation: Define the tensorflow optimizer. Use an AdamOptimizer that minimizes the cost.\n",
        "    ### START CODE HERE ### (1 line)\n",
        "    optimizer = tf.train.AdamOptimizer(learning_rate=learning_rate).minimize(cost)\n",
        "    ### END CODE HERE ###\n",
        "    \n",
        "    # Initialize all the variables globally\n",
        "    init = tf.global_variables_initializer()\n",
        "     \n",
        "    # Start the session to compute the tensorflow graph\n",
        "    with tf.Session() as sess:\n",
        "        \n",
        "        # Run the initialization\n",
        "        sess.run(init)\n",
        "        \n",
        "        # Do the training loop\n",
        "        for epoch in range(num_epochs):\n",
        "\n",
        "            minibatch_cost = 0.\n",
        "            num_minibatches = int(m / minibatch_size) # number of minibatches of size minibatch_size in the train set\n",
        "            seed = seed + 1\n",
        "            minibatches = random_mini_batches(X_train, Y_train, minibatch_size, seed)\n",
        "\n",
        "            for minibatch in minibatches:\n",
        "\n",
        "                # Select a minibatch\n",
        "                (minibatch_X, minibatch_Y) = minibatch\n",
        "                # IMPORTANT: The line that runs the graph on a minibatch.\n",
        "                # Run the session to execute the optimizer and the cost, the feedict should contain a minibatch for (X,Y).\n",
        "                ### START CODE HERE ### (1 line)\n",
        "                _ , temp_cost = sess.run([optimizer,cost],feed_dict={X:minibatch_X,Y:minibatch_Y})\n",
        "                ### END CODE HERE ###\n",
        "                \n",
        "                minibatch_cost += temp_cost / num_minibatches\n",
        "                \n",
        "\n",
        "            # Print the cost every epoch\n",
        "            if print_cost == True and epoch % 5 == 0:\n",
        "                print (\"Cost after epoch %i: %f\" % (epoch, minibatch_cost))\n",
        "            if print_cost == True and epoch % 1 == 0:\n",
        "                costs.append(minibatch_cost)\n",
        "        \n",
        "        \n",
        "        # plot the cost\n",
        "        plt.plot(np.squeeze(costs))\n",
        "        plt.ylabel('cost')\n",
        "        plt.xlabel('iterations (per tens)')\n",
        "        plt.title(\"Learning rate =\" + str(learning_rate))\n",
        "        plt.show()\n",
        "\n",
        "        # Calculate the correct predictions\n",
        "        predict_op = tf.argmax(Z3, 1)\n",
        "        correct_prediction = tf.equal(predict_op, tf.argmax(Y, 1))\n",
        "        \n",
        "        # Calculate accuracy on the test set\n",
        "        accuracy = tf.reduce_mean(tf.cast(correct_prediction, \"float\"))\n",
        "        print(accuracy)\n",
        "        train_accuracy = accuracy.eval({X: X_train, Y: Y_train})\n",
        "        test_accuracy = accuracy.eval({X: X_test, Y: Y_test})\n",
        "        print(\"Train Accuracy:\", train_accuracy)\n",
        "        print(\"Test Accuracy:\", test_accuracy)\n",
        "                \n",
        "        return train_accuracy, test_accuracy, parameters"
      ]
    },
    {
      "cell_type": "markdown",
      "metadata": {
        "id": "OuzaJZGywIho"
      },
      "source": [
        "Run the following cell to train your model for 100 epochs. Check if your cost after epoch 0 and 5 matches our output. If not, stop the cell and go back to your code!"
      ]
    },
    {
      "cell_type": "code",
      "execution_count": 23,
      "metadata": {
        "colab": {
          "base_uri": "https://localhost:8080/",
          "height": 682
        },
        "collapsed": true,
        "id": "rYakm3gQwIho",
        "jupyter": {
          "outputs_hidden": true
        },
        "outputId": "479d521e-b961-4c11-a7be-123745d4d36a"
      },
      "outputs": [
        {
          "name": "stdout",
          "output_type": "stream",
          "text": [
            "Cost after epoch 0: 1.917920\n",
            "Cost after epoch 5: 1.532475\n",
            "Cost after epoch 10: 1.014804\n",
            "Cost after epoch 15: 0.885137\n",
            "Cost after epoch 20: 0.766963\n",
            "Cost after epoch 25: 0.651208\n",
            "Cost after epoch 30: 0.613356\n",
            "Cost after epoch 35: 0.605931\n",
            "Cost after epoch 40: 0.534713\n",
            "Cost after epoch 45: 0.551402\n",
            "Cost after epoch 50: 0.496976\n",
            "Cost after epoch 55: 0.454438\n",
            "Cost after epoch 60: 0.455496\n",
            "Cost after epoch 65: 0.458359\n",
            "Cost after epoch 70: 0.450040\n",
            "Cost after epoch 75: 0.410687\n",
            "Cost after epoch 80: 0.469005\n",
            "Cost after epoch 85: 0.389253\n",
            "Cost after epoch 90: 0.363808\n",
            "Cost after epoch 95: 0.376132\n"
          ]
        },
        {
          "data": {
            "image/png": "[encoded data removed]",
            "text/plain": [
              "<matplotlib.figure.Figure at 0x221290a6fd0>"
            ]
          },
          "metadata": {},
          "output_type": "display_data"
        },
        {
          "name": "stdout",
          "output_type": "stream",
          "text": [
            "Tensor(\"Mean_1:0\", shape=(), dtype=float32)\n",
            "Train Accuracy: 0.86851853\n",
            "Test Accuracy: 0.73333335\n"
          ]
        }
      ],
      "source": [
        "_, _, parameters = model(X_train, Y_train, X_test, Y_test)"
      ]
    },
    {
      "cell_type": "markdown",
      "metadata": {
        "id": "3lVyCtjMwIhq"
      },
      "source": [
        "**Expected output**: although it may not match perfectly, your expected output should be close to ours and your cost value should decrease.\n",
        "\n",
        "<table> \n",
        "<tr>\n",
        "    <td> \n",
        "    **Cost after epoch 0 =**\n",
        "    </td>\n",
        "<td> \n",
        "     1.917920\n",
        "    </td> \n",
        "</tr>\n",
        "<tr>\n",
        "    <td> \n",
        "    **Cost after epoch 5 =**\n",
        "    </td>\n",
        "    <td> \n",
        "      1.532475\n",
        "    </td> \n",
        "</tr>\n",
        "<tr>\n",
        "    <td> \n",
        "    **Train Accuracy   =**\n",
        "    </td>\n",
        "<td> \n",
        "     0.86851853\n",
        "    </td> \n",
        "</tr> \n",
        "\n",
        "<tr>\n",
        "    <td> \n",
        "    **Test Accuracy   =**\n",
        "    </td>\n",
        "<td> \n",
        "     0.73333335\n",
        "    </td> \n",
        "</tr> \n",
        "</table>"
      ]
    },
    {
      "cell_type": "markdown",
      "metadata": {
        "id": "NuAakLgrwIhq"
      },
      "source": [
        "Congratulations! You have finised the assignment and built a model that recognizes SIGN language with almost 80% accuracy on the test set. If you wish, feel free to play around with this dataset further. You can actually improve its accuracy by spending more time tuning the hyperparameters, or using regularization (as this model clearly has a high variance). \n",
        "\n",
        "Once again, here's a thumbs up for your work! "
      ]
    },
    {
      "cell_type": "code",
      "execution_count": null,
      "metadata": {
        "colab": {
          "base_uri": "https://localhost:8080/",
          "height": 285
        },
        "collapsed": true,
        "id": "upGB8s7mwIhq",
        "jupyter": {
          "outputs_hidden": true
        },
        "outputId": "48860eb2-3bed-4ffe-f4e1-87f72e093cc6"
      },
      "outputs": [
        {
          "data": {
            "text/plain": [
              "<matplotlib.image.AxesImage at 0x7f941edfc450>"
            ]
          },
          "execution_count": 45,
          "metadata": {},
          "output_type": "execute_result"
        },
        {
          "data": {
            "image/png": "[encoded data removed]",
            "text/plain": [
              "<Figure size 432x288 with 1 Axes>"
            ]
          },
          "metadata": {
            "needs_background": "light"
          },
          "output_type": "display_data"
        }
      ],
      "source": [
        "import imageio\n",
        "from PIL import Image\n",
        "fname = \"images/thumbs_up.jpg\"\n",
        "my_image = np.array(Image.fromarray(imageio.imread(fname)).resize((64,64)))\n",
        "plt.imshow(my_image)"
      ]
    }
  ],
  "metadata": {
    "colab": {
      "collapsed_sections": [],
      "name": "Convolution model - Application.ipynb",
      "provenance": []
    },
    "coursera": {
      "course_slug": "convolutional-neural-networks",
      "graded_item_id": "bwbJV",
      "launcher_item_id": "0TkXB"
    },
    "interpreter": {
      "hash": "b568273ed957c2d0fbfb1c1a3e845c258314d3cc0f0d6fc2d6f8c89f5b29fb6b"
    },
    "kernelspec": {
      "display_name": "Python 3.6.13 64-bit ('tensorflow1': conda)",
      "name": "python3"
    },
    "language_info": {
      "codemirror_mode": {
        "name": "ipython",
        "version": 3
      },
      "file_extension": ".py",
      "mimetype": "text/x-python",
      "name": "python",
      "nbconvert_exporter": "python",
      "pygments_lexer": "ipython3",
      "version": "3.6.13"
    }
  },
  "nbformat": 4,
  "nbformat_minor": 0
}
