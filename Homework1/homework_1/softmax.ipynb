{
 "cells": [
  {
   "cell_type": "markdown",
   "source": [
    "# Softmax exercise\n",
    "\n",
    "*Complete and hand in this completed worksheet (including its outputs and any supporting code outside of the worksheet) with your assignment submission. \n",
    "This exercise is analogous to the SVM exercise. You will:\n",
    "\n",
    "- implement a fully-vectorized **loss function** for the Softmax classifier\n",
    "- implement the fully-vectorized expression for its **analytic gradient**\n",
    "- **check your implementation** with numerical gradient\n",
    "- use a validation set to **tune the learning rate and regularization** strength\n",
    "- **optimize** the loss function with **SGD**\n",
    "- **visualize** the final learned weights\n"
   ],
   "metadata": {
    "tags": [
     "pdf-title"
    ]
   }
  },
  {
   "cell_type": "code",
   "execution_count": 1,
   "source": [
    "import random\r\n",
    "import numpy as np\r\n",
    "from sducs2019.data_utils import load_CIFAR10\r\n",
    "import matplotlib.pyplot as plt\r\n",
    "\r\n",
    "%matplotlib inline\r\n",
    "plt.rcParams['figure.figsize'] = (10.0, 8.0) # set default size of plots\r\n",
    "plt.rcParams['image.interpolation'] = 'nearest'\r\n",
    "plt.rcParams['image.cmap'] = 'gray'\r\n",
    "\r\n",
    "# for auto-reloading extenrnal modules\r\n",
    "# see http://stackoverflow.com/questions/1907993/autoreload-of-modules-in-ipython\r\n",
    "%load_ext autoreload\r\n",
    "%autoreload 2"
   ],
   "outputs": [],
   "metadata": {
    "tags": [
     "pdf-ignore"
    ]
   }
  },
  {
   "cell_type": "code",
   "execution_count": 2,
   "source": [
    "def get_CIFAR10_data(num_training=49000, num_validation=1000, num_test=1000, num_dev=500):\r\n",
    "    \"\"\"\r\n",
    "    Load the CIFAR-10 dataset from disk and perform preprocessing to prepare\r\n",
    "    it for the linear classifier. These are the same steps as we used for the\r\n",
    "    SVM, but condensed to a single function.  \r\n",
    "    \"\"\"\r\n",
    "    # Load the raw CIFAR-10 data\r\n",
    "    cifar10_dir = 'sducs2019/datasets/cifar-10-batches-py'\r\n",
    "    \r\n",
    "    # Cleaning up variables to prevent loading data multiple times (which may cause memory issue)\r\n",
    "    try:\r\n",
    "       del X_train, y_train\r\n",
    "       del X_test, y_test\r\n",
    "       print('Clear previously loaded data.')\r\n",
    "    except:\r\n",
    "       pass\r\n",
    "\r\n",
    "    X_train, y_train, X_test, y_test = load_CIFAR10(cifar10_dir)\r\n",
    "    \r\n",
    "    # subsample the data\r\n",
    "    mask = list(range(num_training, num_training + num_validation))\r\n",
    "    X_val = X_train[mask]\r\n",
    "    y_val = y_train[mask]\r\n",
    "    mask = list(range(num_training))\r\n",
    "    X_train = X_train[mask]\r\n",
    "    y_train = y_train[mask]\r\n",
    "    mask = list(range(num_test))\r\n",
    "    X_test = X_test[mask]\r\n",
    "    y_test = y_test[mask]\r\n",
    "    mask = np.random.choice(num_training, num_dev, replace=False)\r\n",
    "    X_dev = X_train[mask]\r\n",
    "    y_dev = y_train[mask]\r\n",
    "    \r\n",
    "    # Preprocessing: reshape the image data into rows\r\n",
    "    X_train = np.reshape(X_train, (X_train.shape[0], -1))\r\n",
    "    X_val = np.reshape(X_val, (X_val.shape[0], -1))\r\n",
    "    X_test = np.reshape(X_test, (X_test.shape[0], -1))\r\n",
    "    X_dev = np.reshape(X_dev, (X_dev.shape[0], -1))\r\n",
    "    \r\n",
    "    # Normalize the data: subtract the mean image\r\n",
    "    mean_image = np.mean(X_train, axis = 0)\r\n",
    "    X_train -= mean_image\r\n",
    "    X_val -= mean_image\r\n",
    "    X_test -= mean_image\r\n",
    "    X_dev -= mean_image\r\n",
    "    \r\n",
    "    # add bias dimension and transform into columns\r\n",
    "    X_train = np.hstack([X_train, np.ones((X_train.shape[0], 1))])\r\n",
    "    X_val = np.hstack([X_val, np.ones((X_val.shape[0], 1))])\r\n",
    "    X_test = np.hstack([X_test, np.ones((X_test.shape[0], 1))])\r\n",
    "    X_dev = np.hstack([X_dev, np.ones((X_dev.shape[0], 1))])\r\n",
    "    \r\n",
    "    return X_train, y_train, X_val, y_val, X_test, y_test, X_dev, y_dev\r\n",
    "\r\n",
    "\r\n",
    "# Invoke the above function to get our data.\r\n",
    "X_train, y_train, X_val, y_val, X_test, y_test, X_dev, y_dev = get_CIFAR10_data()\r\n",
    "print('Train data shape: ', X_train.shape)\r\n",
    "print('Train labels shape: ', y_train.shape)\r\n",
    "print('Validation data shape: ', X_val.shape)\r\n",
    "print('Validation labels shape: ', y_val.shape)\r\n",
    "print('Test data shape: ', X_test.shape)\r\n",
    "print('Test labels shape: ', y_test.shape)\r\n",
    "print('dev data shape: ', X_dev.shape)\r\n",
    "print('dev labels shape: ', y_dev.shape)"
   ],
   "outputs": [
    {
     "output_type": "stream",
     "name": "stdout",
     "text": [
      "Train data shape:  (49000, 3073)\n",
      "Train labels shape:  (49000,)\n",
      "Validation data shape:  (1000, 3073)\n",
      "Validation labels shape:  (1000,)\n",
      "Test data shape:  (1000, 3073)\n",
      "Test labels shape:  (1000,)\n",
      "dev data shape:  (500, 3073)\n",
      "dev labels shape:  (500,)\n"
     ]
    }
   ],
   "metadata": {
    "tags": [
     "pdf-ignore"
    ]
   }
  },
  {
   "cell_type": "markdown",
   "source": [
    "## Softmax Classifier\n",
    "\n",
    "Your code for this section will all be written inside **sducs2019/classifiers/softmax.py**. \n"
   ],
   "metadata": {}
  },
  {
   "cell_type": "code",
   "execution_count": 3,
   "source": [
    "# First implement the naive softmax loss function with nested loops.\r\n",
    "# Open the file sducs2019/classifiers/softmax.py and implement the\r\n",
    "# softmax_loss_naive function.\r\n",
    "\r\n",
    "from sducs2019.classifiers.softmax import softmax_loss_naive\r\n",
    "import time\r\n",
    "\r\n",
    "# Generate a random softmax weight matrix and use it to compute the loss.\r\n",
    "W = np.random.randn(3073, 10) * 0.0001\r\n",
    "loss, grad = softmax_loss_naive(W, X_dev, y_dev, 0.0)\r\n",
    "\r\n",
    "# As a rough sanity check, our loss should be something close to -log(0.1).\r\n",
    "print('loss: %f' % loss)\r\n",
    "print('sanity check: %f' % (-np.log(0.1)))"
   ],
   "outputs": [
    {
     "output_type": "stream",
     "name": "stdout",
     "text": [
      "loss: 2.326026\n",
      "sanity check: 2.302585\n"
     ]
    }
   ],
   "metadata": {}
  },
  {
   "cell_type": "markdown",
   "source": [
    "**Inline Question 1**\r\n",
    "\r\n",
    "Why do we expect our loss to be close to -log(0.1)? Explain briefly.**\r\n",
    "\r\n",
    "$\\color{blue}{\\textit Your Answer:}$ 因为有10个类，选这个错误的概率是0.1，正确的一个类从10个待选的类别中选择，每个类别被选中的概率是0.1，错误就是响应的0.1 \r\n",
    "\r\n"
   ],
   "metadata": {
    "tags": [
     "pdf-inline"
    ]
   }
  },
  {
   "cell_type": "code",
   "execution_count": 4,
   "source": [
    "# Complete the implementation of softmax_loss_naive and implement a (naive)\r\n",
    "# version of the gradient that uses nested loops.\r\n",
    "loss, grad = softmax_loss_naive(W, X_dev, y_dev, 0.0)\r\n",
    "\r\n",
    "# As we did for the SVM, use numeric gradient checking as a debugging tool.\r\n",
    "# The numeric gradient should be close to the analytic gradient.\r\n",
    "from sducs2019.gradient_check import grad_check_sparse\r\n",
    "f = lambda w: softmax_loss_naive(w, X_dev, y_dev, 0.0)[0]\r\n",
    "grad_numerical = grad_check_sparse(f, W, grad, 10)\r\n",
    "\r\n",
    "# similar to SVM case, do another gradient check with regularization\r\n",
    "loss, grad = softmax_loss_naive(W, X_dev, y_dev, 5e1)\r\n",
    "f = lambda w: softmax_loss_naive(w, X_dev, y_dev, 5e1)[0]\r\n",
    "grad_numerical = grad_check_sparse(f, W, grad, 10)"
   ],
   "outputs": [
    {
     "output_type": "stream",
     "name": "stdout",
     "text": [
      "numerical: -0.625826 analytic: -0.625826, relative error: 3.062815e-08\n",
      "numerical: -0.334672 analytic: -0.334672, relative error: 2.536340e-07\n",
      "numerical: 1.916369 analytic: 1.916369, relative error: 1.861225e-08\n",
      "numerical: -0.418075 analytic: -0.418075, relative error: 8.486049e-08\n",
      "numerical: -0.782564 analytic: -0.782564, relative error: 4.461653e-08\n",
      "numerical: -2.677670 analytic: -2.677670, relative error: 1.700068e-08\n",
      "numerical: -0.048733 analytic: -0.048733, relative error: 5.112259e-07\n",
      "numerical: 0.695116 analytic: 0.695116, relative error: 1.491328e-09\n",
      "numerical: 0.909997 analytic: 0.909997, relative error: 1.711973e-08\n",
      "numerical: 0.136711 analytic: 0.136711, relative error: 1.332552e-07\n",
      "numerical: -0.311930 analytic: -0.311930, relative error: 1.973248e-08\n",
      "numerical: 1.244927 analytic: 1.244927, relative error: 6.872938e-09\n",
      "numerical: -1.668871 analytic: -1.668871, relative error: 9.884344e-09\n",
      "numerical: 0.823510 analytic: 0.823510, relative error: 6.827782e-08\n",
      "numerical: 2.087092 analytic: 2.087092, relative error: 1.053543e-08\n",
      "numerical: -0.401862 analytic: -0.401862, relative error: 7.464493e-08\n",
      "numerical: 1.459298 analytic: 1.459298, relative error: 3.962499e-08\n",
      "numerical: -0.231959 analytic: -0.231958, relative error: 9.456922e-08\n",
      "numerical: -1.558896 analytic: -1.558896, relative error: 2.329827e-08\n",
      "numerical: 0.695585 analytic: 0.695585, relative error: 7.083741e-10\n"
     ]
    }
   ],
   "metadata": {}
  },
  {
   "cell_type": "code",
   "execution_count": 8,
   "source": [
    "# Now that we have a naive implementation of the softmax loss function and its gradient,\r\n",
    "# implement a vectorized version in softmax_loss_vectorized.\r\n",
    "# The two versions should compute the same results, but the vectorized version should be\r\n",
    "# much faster.\r\n",
    "tic = time.time()\r\n",
    "loss_naive, grad_naive = softmax_loss_naive(W, X_dev, y_dev, 0.000005)\r\n",
    "toc = time.time()\r\n",
    "print('naive loss: %e computed in %fs' % (loss_naive, toc - tic))\r\n",
    "\r\n",
    "from sducs2019.classifiers.softmax import softmax_loss_vectorized\r\n",
    "tic = time.time()\r\n",
    "loss_vectorized, grad_vectorized = softmax_loss_vectorized(W, X_dev, y_dev, 0.000005)\r\n",
    "toc = time.time()\r\n",
    "print('vectorized loss: %e computed in %fs' % (loss_vectorized, toc - tic))\r\n",
    "\r\n",
    "# As we did for the SVM, we use the Frobenius norm to compare the two versions\r\n",
    "# of the gradient.\r\n",
    "grad_difference = np.linalg.norm(grad_naive - grad_vectorized, ord='fro')\r\n",
    "print('Loss difference: %f' % np.abs(loss_naive - loss_vectorized))\r\n",
    "print('Gradient difference: %f' % grad_difference)"
   ],
   "outputs": [
    {
     "output_type": "stream",
     "name": "stdout",
     "text": [
      "naive loss: 2.326026e+00 computed in 0.095332s\n",
      "vectorized loss: 2.326180e+00 computed in 0.003995s\n",
      "Loss difference: 0.000153\n",
      "Gradient difference: 0.000000\n"
     ]
    }
   ],
   "metadata": {}
  },
  {
   "cell_type": "code",
   "execution_count": 23,
   "source": [
    "# Use the validation set to tune hyperparameters (regularization strength and\r\n",
    "# learning rate). You should experiment with different ranges for the learning\r\n",
    "# rates and regularization strengths; if you are careful you should be able to\r\n",
    "# get a classification accuracy of over 0.35 on the validation set.\r\n",
    "from sducs2019.classifiers import Softmax\r\n",
    "results = {}\r\n",
    "best_val = -1\r\n",
    "best_softmax = None\r\n",
    "learning_rates = [1e-7,1.2e-7,2e-7,3e-7,5e-7]\r\n",
    "# regularization_strengths = [2.5e4,3e4,4e4,5e4]\r\n",
    "regularization_strengths = [(1+0.1*i)*1e4 for i in range(-3,4)]+[(5+0.1*i)*1e4 for i in range(-3,4)]\r\n",
    "\r\n",
    "\r\n",
    "################################################################################\r\n",
    "# TODO:                                                                        #\r\n",
    "# Use the validation set to set the learning rate and regularization strength. #\r\n",
    "# This should be identical to the validation that you did for the SVM; save    #\r\n",
    "# the best trained softmax classifer in best_softmax.                          #\r\n",
    "################################################################################\r\n",
    "# *****START OF YOUR CODE (DO NOT DELETE/MODIFY THIS LINE)*****\r\n",
    "\r\n",
    "for lr in learning_rates:\r\n",
    "    for rg in regularization_strengths:\r\n",
    "        softmax_=Softmax()\r\n",
    "        softmax_.train(X_train,y_train,lr,rg,num_iters=2000)\r\n",
    "        y_train_pre=softmax_.predict(X_train)\r\n",
    "        y_val_pre=softmax_.predict(X_val)\r\n",
    "        train_acc=np.mean(y_train_pre==y_train)\r\n",
    "        val_acc=np.mean(y_val_pre==y_val)\r\n",
    "        results[(lr, rg)]=(train_acc,val_acc)\r\n",
    "        if val_acc>best_val:\r\n",
    "            best_val=val_acc\r\n",
    "            best_softmax=softmax_\r\n",
    "\r\n",
    "# *****END OF YOUR CODE (DO NOT DELETE/MODIFY THIS LINE)*****\r\n",
    "    \r\n",
    "# Print out results.\r\n",
    "for lr, reg in sorted(results):\r\n",
    "    train_accuracy, val_accuracy = results[(lr, reg)]\r\n",
    "    print('lr %e reg %e train accuracy: %f val accuracy: %f' % (\r\n",
    "                lr, reg, train_accuracy, val_accuracy))\r\n",
    "    \r\n",
    "print('best validation accuracy achieved during cross-validation: %f' % best_val)"
   ],
   "outputs": [
    {
     "output_type": "stream",
     "name": "stdout",
     "text": [
      "lr 1.000000e-07 reg 7.000000e+03 train accuracy: 0.342245 val accuracy: 0.367000\n",
      "lr 1.000000e-07 reg 8.000000e+03 train accuracy: 0.349531 val accuracy: 0.353000\n",
      "lr 1.000000e-07 reg 9.000000e+03 train accuracy: 0.349918 val accuracy: 0.353000\n",
      "lr 1.000000e-07 reg 1.000000e+04 train accuracy: 0.358694 val accuracy: 0.356000\n",
      "lr 1.000000e-07 reg 1.100000e+04 train accuracy: 0.360163 val accuracy: 0.385000\n",
      "lr 1.000000e-07 reg 1.200000e+04 train accuracy: 0.360347 val accuracy: 0.369000\n",
      "lr 1.000000e-07 reg 1.300000e+04 train accuracy: 0.362510 val accuracy: 0.371000\n",
      "lr 1.000000e-07 reg 4.700000e+04 train accuracy: 0.330959 val accuracy: 0.346000\n",
      "lr 1.000000e-07 reg 4.800000e+04 train accuracy: 0.332327 val accuracy: 0.350000\n",
      "lr 1.000000e-07 reg 4.900000e+04 train accuracy: 0.330265 val accuracy: 0.350000\n",
      "lr 1.000000e-07 reg 5.000000e+04 train accuracy: 0.327286 val accuracy: 0.346000\n",
      "lr 1.000000e-07 reg 5.100000e+04 train accuracy: 0.327061 val accuracy: 0.340000\n",
      "lr 1.000000e-07 reg 5.200000e+04 train accuracy: 0.322571 val accuracy: 0.339000\n",
      "lr 1.000000e-07 reg 5.300000e+04 train accuracy: 0.329265 val accuracy: 0.338000\n",
      "lr 1.200000e-07 reg 7.000000e+03 train accuracy: 0.361592 val accuracy: 0.367000\n",
      "lr 1.200000e-07 reg 8.000000e+03 train accuracy: 0.359469 val accuracy: 0.366000\n",
      "lr 1.200000e-07 reg 9.000000e+03 train accuracy: 0.364673 val accuracy: 0.368000\n",
      "lr 1.200000e-07 reg 1.000000e+04 train accuracy: 0.365041 val accuracy: 0.369000\n",
      "lr 1.200000e-07 reg 1.100000e+04 train accuracy: 0.368673 val accuracy: 0.375000\n",
      "lr 1.200000e-07 reg 1.200000e+04 train accuracy: 0.368551 val accuracy: 0.373000\n",
      "lr 1.200000e-07 reg 1.300000e+04 train accuracy: 0.366735 val accuracy: 0.383000\n",
      "lr 1.200000e-07 reg 4.700000e+04 train accuracy: 0.328286 val accuracy: 0.339000\n",
      "lr 1.200000e-07 reg 4.800000e+04 train accuracy: 0.328041 val accuracy: 0.347000\n",
      "lr 1.200000e-07 reg 4.900000e+04 train accuracy: 0.333878 val accuracy: 0.342000\n",
      "lr 1.200000e-07 reg 5.000000e+04 train accuracy: 0.330122 val accuracy: 0.337000\n",
      "lr 1.200000e-07 reg 5.100000e+04 train accuracy: 0.327735 val accuracy: 0.332000\n",
      "lr 1.200000e-07 reg 5.200000e+04 train accuracy: 0.328041 val accuracy: 0.342000\n",
      "lr 1.200000e-07 reg 5.300000e+04 train accuracy: 0.331857 val accuracy: 0.354000\n",
      "lr 2.000000e-07 reg 7.000000e+03 train accuracy: 0.380265 val accuracy: 0.393000\n",
      "lr 2.000000e-07 reg 8.000000e+03 train accuracy: 0.377102 val accuracy: 0.396000\n",
      "lr 2.000000e-07 reg 9.000000e+03 train accuracy: 0.375653 val accuracy: 0.392000\n",
      "lr 2.000000e-07 reg 1.000000e+04 train accuracy: 0.373918 val accuracy: 0.384000\n",
      "lr 2.000000e-07 reg 1.100000e+04 train accuracy: 0.373633 val accuracy: 0.384000\n",
      "lr 2.000000e-07 reg 1.200000e+04 train accuracy: 0.369184 val accuracy: 0.392000\n",
      "lr 2.000000e-07 reg 1.300000e+04 train accuracy: 0.368082 val accuracy: 0.382000\n",
      "lr 2.000000e-07 reg 4.700000e+04 train accuracy: 0.333184 val accuracy: 0.343000\n",
      "lr 2.000000e-07 reg 4.800000e+04 train accuracy: 0.324694 val accuracy: 0.348000\n",
      "lr 2.000000e-07 reg 4.900000e+04 train accuracy: 0.324633 val accuracy: 0.338000\n",
      "lr 2.000000e-07 reg 5.000000e+04 train accuracy: 0.330735 val accuracy: 0.344000\n",
      "lr 2.000000e-07 reg 5.100000e+04 train accuracy: 0.329000 val accuracy: 0.331000\n",
      "lr 2.000000e-07 reg 5.200000e+04 train accuracy: 0.324653 val accuracy: 0.339000\n",
      "lr 2.000000e-07 reg 5.300000e+04 train accuracy: 0.322857 val accuracy: 0.343000\n",
      "lr 3.000000e-07 reg 7.000000e+03 train accuracy: 0.384429 val accuracy: 0.401000\n",
      "lr 3.000000e-07 reg 8.000000e+03 train accuracy: 0.371510 val accuracy: 0.383000\n",
      "lr 3.000000e-07 reg 9.000000e+03 train accuracy: 0.376816 val accuracy: 0.397000\n",
      "lr 3.000000e-07 reg 1.000000e+04 train accuracy: 0.374408 val accuracy: 0.392000\n",
      "lr 3.000000e-07 reg 1.100000e+04 train accuracy: 0.373469 val accuracy: 0.382000\n",
      "lr 3.000000e-07 reg 1.200000e+04 train accuracy: 0.369653 val accuracy: 0.388000\n",
      "lr 3.000000e-07 reg 1.300000e+04 train accuracy: 0.368449 val accuracy: 0.382000\n",
      "lr 3.000000e-07 reg 4.700000e+04 train accuracy: 0.334122 val accuracy: 0.349000\n",
      "lr 3.000000e-07 reg 4.800000e+04 train accuracy: 0.322388 val accuracy: 0.333000\n",
      "lr 3.000000e-07 reg 4.900000e+04 train accuracy: 0.333735 val accuracy: 0.343000\n",
      "lr 3.000000e-07 reg 5.000000e+04 train accuracy: 0.331306 val accuracy: 0.341000\n",
      "lr 3.000000e-07 reg 5.100000e+04 train accuracy: 0.324735 val accuracy: 0.338000\n",
      "lr 3.000000e-07 reg 5.200000e+04 train accuracy: 0.320918 val accuracy: 0.328000\n",
      "lr 3.000000e-07 reg 5.300000e+04 train accuracy: 0.316776 val accuracy: 0.336000\n",
      "lr 5.000000e-07 reg 7.000000e+03 train accuracy: 0.381857 val accuracy: 0.403000\n",
      "lr 5.000000e-07 reg 8.000000e+03 train accuracy: 0.378408 val accuracy: 0.392000\n",
      "lr 5.000000e-07 reg 9.000000e+03 train accuracy: 0.372082 val accuracy: 0.381000\n",
      "lr 5.000000e-07 reg 1.000000e+04 train accuracy: 0.371082 val accuracy: 0.381000\n",
      "lr 5.000000e-07 reg 1.100000e+04 train accuracy: 0.374918 val accuracy: 0.393000\n",
      "lr 5.000000e-07 reg 1.200000e+04 train accuracy: 0.370694 val accuracy: 0.377000\n",
      "lr 5.000000e-07 reg 1.300000e+04 train accuracy: 0.367265 val accuracy: 0.373000\n",
      "lr 5.000000e-07 reg 4.700000e+04 train accuracy: 0.324286 val accuracy: 0.335000\n",
      "lr 5.000000e-07 reg 4.800000e+04 train accuracy: 0.330490 val accuracy: 0.344000\n",
      "lr 5.000000e-07 reg 4.900000e+04 train accuracy: 0.331551 val accuracy: 0.338000\n",
      "lr 5.000000e-07 reg 5.000000e+04 train accuracy: 0.316306 val accuracy: 0.336000\n",
      "lr 5.000000e-07 reg 5.100000e+04 train accuracy: 0.322755 val accuracy: 0.335000\n",
      "lr 5.000000e-07 reg 5.200000e+04 train accuracy: 0.328918 val accuracy: 0.338000\n",
      "lr 5.000000e-07 reg 5.300000e+04 train accuracy: 0.319776 val accuracy: 0.320000\n",
      "best validation accuracy achieved during cross-validation: 0.403000\n"
     ]
    }
   ],
   "metadata": {
    "tags": [
     "code"
    ]
   }
  },
  {
   "cell_type": "code",
   "execution_count": 24,
   "source": [
    "# evaluate on test set\r\n",
    "# Evaluate the best softmax on test set\r\n",
    "y_test_pred = best_softmax.predict(X_test)\r\n",
    "test_accuracy = np.mean(y_test == y_test_pred)\r\n",
    "print('softmax on raw pixels final test set accuracy: %f' % (test_accuracy, ))"
   ],
   "outputs": [
    {
     "output_type": "stream",
     "name": "stdout",
     "text": [
      "softmax on raw pixels final test set accuracy: 0.373000\n"
     ]
    }
   ],
   "metadata": {}
  },
  {
   "cell_type": "markdown",
   "source": [
    "**Inline Question 2** - *True or False*\r\n",
    "\r\n",
    "Suppose the overall training loss is defined as the sum of the per-datapoint loss over all training examples. It is possible to add a new datapoint to a training set that would leave the SVM loss unchanged, but this is not the case with the Softmax classifier loss.\r\n",
    "\r\n",
    "$\\color{blue}{\\textit Your Answer:}$ 不是\r\n",
    "\r\n",
    "\r\n",
    "$\\color{blue}{\\textit Your Explanation:}$ 因为svm有边界，而softmax没有边界，svm对loss为负的取0，而这里不是\r\n",
    "\r\n"
   ],
   "metadata": {
    "tags": [
     "pdf-inline"
    ]
   }
  },
  {
   "cell_type": "code",
   "execution_count": 25,
   "source": [
    "# Visualize the learned weights for each class\r\n",
    "w = best_softmax.W[:-1,:] # strip out the bias\r\n",
    "w = w.reshape(32, 32, 3, 10)\r\n",
    "\r\n",
    "w_min, w_max = np.min(w), np.max(w)\r\n",
    "\r\n",
    "classes = ['plane', 'car', 'bird', 'cat', 'deer', 'dog', 'frog', 'horse', 'ship', 'truck']\r\n",
    "for i in range(10):\r\n",
    "    plt.subplot(2, 5, i + 1)\r\n",
    "    \r\n",
    "    # Rescale the weights to be between 0 and 255\r\n",
    "    wimg = 255.0 * (w[:, :, :, i].squeeze() - w_min) / (w_max - w_min)\r\n",
    "    plt.imshow(wimg.astype('uint8'))\r\n",
    "    plt.axis('off')\r\n",
    "    plt.title(classes[i])"
   ],
   "outputs": [
    {
     "output_type": "display_data",
     "data": {
      "image/png": "[encoded data removed]",
      "text/plain": [
       "<Figure size 720x576 with 10 Axes>"
      ]
     },
     "metadata": {
      "needs_background": "light"
     }
    }
   ],
   "metadata": {}
  }
 ],
 "metadata": {
  "kernelspec": {
   "name": "python3",
   "display_name": "Python 3.7.2 64-bit"
  },
  "language_info": {
   "codemirror_mode": {
    "name": "ipython",
    "version": 3
   },
   "file_extension": ".py",
   "mimetype": "text/x-python",
   "name": "python",
   "nbconvert_exporter": "python",
   "pygments_lexer": "ipython3",
   "version": "3.7.2"
  },
  "interpreter": {
   "hash": "1caa708b2dca3fbd6ce9e4fdb900e6cc89d6ca74303cde762aa4881579e2f92d"
  }
 },
 "nbformat": 4,
 "nbformat_minor": 4
}